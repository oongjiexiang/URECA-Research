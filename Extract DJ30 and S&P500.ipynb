{
 "cells": [
  {
   "cell_type": "markdown",
   "metadata": {},
   "source": [
    "## Objective\n",
    "To extract Form 4 of DJ30 and S&P500 companies"
   ]
  },
  {
   "cell_type": "code",
   "execution_count": 34,
   "metadata": {
    "ExecuteTime": {
     "end_time": "2021-02-08T10:56:07.830378Z",
     "start_time": "2021-02-08T10:56:07.819360Z"
    }
   },
   "outputs": [],
   "source": [
    "import numpy as np\n",
    "import pandas as pd"
   ]
  },
  {
   "cell_type": "markdown",
   "metadata": {},
   "source": [
    "### Dow Jones 30"
   ]
  },
  {
   "cell_type": "code",
   "execution_count": 60,
   "metadata": {
    "ExecuteTime": {
     "end_time": "2021-02-08T11:22:39.323984Z",
     "start_time": "2021-02-08T11:22:39.073542Z"
    }
   },
   "outputs": [],
   "source": [
    "dj_companies = pd.read_html('https://en.wikipedia.org/wiki/Dow_Jones_Industrial_Average')[1]\n",
    "dj_companies = dj_companies.loc[:,['Company', 'Symbol']].set_index('Symbol')"
   ]
  },
  {
   "cell_type": "code",
   "execution_count": 13,
   "metadata": {
    "ExecuteTime": {
     "end_time": "2021-02-08T09:18:46.609340Z",
     "start_time": "2021-02-08T09:18:45.809197Z"
    }
   },
   "outputs": [
    {
     "name": "stderr",
     "output_type": "stream",
     "text": [
      "  % Total    % Received % Xferd  Average Speed   Time    Time     Time  Current\n",
      "                                 Dload  Upload   Total   Spent    Left  Speed\n",
      "\n",
      "  0     0    0     0    0     0      0      0 --:--:-- --:--:-- --:--:--     0\n",
      "  0     0    0     0    0     0      0      0 --:--:-- --:--:-- --:--:--     0\n",
      "100  135k    0  135k    0     0   135k      0 --:--:-- --:--:-- --:--:--  193k\n"
     ]
    }
   ],
   "source": [
    "!curl https://www.sec.gov/include/ticker.txt >ticker.txt"
   ]
  },
  {
   "cell_type": "code",
   "execution_count": 61,
   "metadata": {
    "ExecuteTime": {
     "end_time": "2021-02-08T11:22:40.519461Z",
     "start_time": "2021-02-08T11:22:40.272977Z"
    }
   },
   "outputs": [],
   "source": [
    "ticker_cik = pd.read_table('ticker.txt', names = ['Ticker', 'CIK'])\n",
    "ticker_cik.Ticker = ticker_cik.apply(lambda x: str(x.Ticker).upper(), axis = 1)\n",
    "ticker_cik.set_index('Ticker', inplace = True)"
   ]
  },
  {
   "cell_type": "code",
   "execution_count": 62,
   "metadata": {
    "ExecuteTime": {
     "end_time": "2021-02-08T11:22:40.615231Z",
     "start_time": "2021-02-08T11:22:40.576988Z"
    }
   },
   "outputs": [
    {
     "data": {
      "text/plain": [
       "'[[:space:]]{320193|318154|4962|12927|18230|1108524|858877|93410|1744489|1751788|886982|354950|773840|51143|50863|200406|19617|21344|63908|66740|310158|789019|320187|80424|86312|731766|1403161|732712|1618921|104169}[[:space]]'"
      ]
     },
     "execution_count": 62,
     "metadata": {},
     "output_type": "execute_result"
    }
   ],
   "source": [
    "dj_companies = dj_companies.join(ticker_cik, how = 'inner')\n",
    "grep_pat = '|'.join(dj_companies.CIK.astype(str).to_list())\n",
    "grep_pat = '[[:space:]]{' + grep_pat + '}[[:space]]'\n",
    "grep_pat"
   ]
  },
  {
   "cell_type": "code",
   "execution_count": 53,
   "metadata": {
    "ExecuteTime": {
     "end_time": "2021-02-08T11:07:05.590600Z",
     "start_time": "2021-02-08T11:07:05.573604Z"
    }
   },
   "outputs": [
    {
     "data": {
      "text/html": [
       "<div>\n",
       "<style scoped>\n",
       "    .dataframe tbody tr th:only-of-type {\n",
       "        vertical-align: middle;\n",
       "    }\n",
       "\n",
       "    .dataframe tbody tr th {\n",
       "        vertical-align: top;\n",
       "    }\n",
       "\n",
       "    .dataframe thead th {\n",
       "        text-align: right;\n",
       "    }\n",
       "</style>\n",
       "<table border=\"1\" class=\"dataframe\">\n",
       "  <thead>\n",
       "    <tr style=\"text-align: right;\">\n",
       "      <th></th>\n",
       "      <th>Company</th>\n",
       "      <th>CIK</th>\n",
       "    </tr>\n",
       "  </thead>\n",
       "  <tbody>\n",
       "    <tr>\n",
       "      <th>AAPL</th>\n",
       "      <td>Apple Inc.</td>\n",
       "      <td>320193</td>\n",
       "    </tr>\n",
       "    <tr>\n",
       "      <th>AMGN</th>\n",
       "      <td>Amgen</td>\n",
       "      <td>318154</td>\n",
       "    </tr>\n",
       "    <tr>\n",
       "      <th>AXP</th>\n",
       "      <td>American Express</td>\n",
       "      <td>4962</td>\n",
       "    </tr>\n",
       "    <tr>\n",
       "      <th>BA</th>\n",
       "      <td>Boeing</td>\n",
       "      <td>12927</td>\n",
       "    </tr>\n",
       "    <tr>\n",
       "      <th>CAT</th>\n",
       "      <td>Caterpillar Inc.</td>\n",
       "      <td>18230</td>\n",
       "    </tr>\n",
       "  </tbody>\n",
       "</table>\n",
       "</div>"
      ],
      "text/plain": [
       "               Company     CIK\n",
       "AAPL        Apple Inc.  320193\n",
       "AMGN             Amgen  318154\n",
       "AXP   American Express    4962\n",
       "BA              Boeing   12927\n",
       "CAT   Caterpillar Inc.   18230"
      ]
     },
     "execution_count": 53,
     "metadata": {},
     "output_type": "execute_result"
    }
   ],
   "source": [
    "dj_companies.head()"
   ]
  },
  {
   "cell_type": "markdown",
   "metadata": {},
   "source": [
    "### S&P 500"
   ]
  },
  {
   "cell_type": "code",
   "execution_count": 54,
   "metadata": {
    "ExecuteTime": {
     "end_time": "2021-02-08T11:07:08.800642Z",
     "start_time": "2021-02-08T11:07:07.966843Z"
    }
   },
   "outputs": [],
   "source": [
    "sp_companies = pd.read_html('https://en.wikipedia.org/wiki/List_of_S%26P_500_companies')[0]\n",
    "sp_companies = sp_companies.loc[:, ['Symbol', 'Security']].set_index('Symbol')"
   ]
  },
  {
   "cell_type": "code",
   "execution_count": 55,
   "metadata": {
    "ExecuteTime": {
     "end_time": "2021-02-08T11:07:08.875360Z",
     "start_time": "2021-02-08T11:07:08.839129Z"
    }
   },
   "outputs": [],
   "source": [
    "sp_companies = sp_companies.merge(ticker_cik, left_index = True, right_index = True)"
   ]
  },
  {
   "cell_type": "code",
   "execution_count": 58,
   "metadata": {
    "ExecuteTime": {
     "end_time": "2021-02-08T11:22:11.333471Z",
     "start_time": "2021-02-08T11:22:11.322207Z"
    }
   },
   "outputs": [
    {
     "data": {
      "text/plain": [
       "'[[:space:]]{1090872|6201|1158449|320193|1551152|1140859|815094|1800|1467373|796343|6281|7084|8670|769397|1002910|4904|874761|4977|5272|1267238|354190|1086222|915913|1097149|766421|899051|1579241|899866|6951|1748790|2488|1037868|318154|820027|1053507|1018724|1596532|1013462|1156039|315293|91142|6769|2969|820313|1521332|1035443|731802|718877|915912|1730168|8818|1410636|4962|866787|12927|70858|10456|764478|10795|38777|875045|12208|1390777|1075531|1701605|1364742|9389|14272|1383312|885725|908255|1037540|831001|23217|721371|1783180|18230|896159|1374310|1138118|1051470|815097|813672|1402057|1306830|804753|1324404|759944|313927|1043277|1091667|1739940|20286|21665|21076|28412|1166691|1156375|1058090|26172|811156|1071739|1130310|927628|858470|711404|1163165|909832|16732|900075|1108524|858877|277948|723254|1596783|1058290|1755672|877890|64803|93410|715957|27904|1666700|315189|1393612|29534|1022079|882184|313616|1744489|1437107|1437107|1001082|1297996|935703|29905|1751788|1286681|783280|940944|936340|1326160|927066|1090012|1688568|1093557|712515|1065088|31462|1047862|33185|827052|1001250|915389|32604|1463101|821189|1101239|906107|72741|920522|1551182|65984|1370637|1711269|1099800|1109357|746515|1324424|1289490|37996|1539838|815556|1326801|1519751|831259|1048911|1031296|1048695|1136893|798354|35527|354908|30625|1175454|37785|1754301|1754301|1132979|34903|1681459|1262039|1659166|40533|40545|882095|40704|320335|24741|1467858|1652044|1652044|40987|1123360|39911|1121788|886982|277135|45012|46080|49196|1359841|860730|354950|4447|48039|874766|1501585|1585689|859737|773840|1645590|47217|48465|1000228|1070750|47111|49071|4281|51143|1571949|874716|832101|51253|1110803|879169|1598014|50863|896878|51434|51644|1111928|1478242|1699150|1020569|1035267|749251|49826|914208|52988|728535|833444|779152|200406|1043604|19617|55067|91576|1601046|1637459|879101|319201|55785|1506307|1170010|21344|56873|54480|60086|701985|1336920|58492|920760|920148|202058|1707925|1065696|59478|936468|59558|352541|60667|707549|18926|92380|1300514|1679273|1489393|1335258|1141391|912595|1048286|62996|63908|827054|927653|1059556|1103982|1613103|1099219|789570|851968|63754|1278021|916076|62709|66740|865752|764180|1285785|1510295|310158|101778|895421|1408198|789019|68505|36270|1037646|723125|743316|1513761|1120193|753308|1164727|1065280|1111711|320187|849399|1492633|1133421|1021860|1373715|1013871|702165|1002047|73124|73309|1045810|906163|814453|1564708|1564708|726728|878927|1039684|29989|1341439|1341439|898173|1781335|797468|1590955|723531|1378946|75362|765880|788784|77476|78003|1126328|80424|80661|76334|822416|75677|31791|1045609|1413329|713676|77360|764622|945841|79879|922224|1585364|1137774|1393311|1534701|78239|1050915|1038357|1633917|804328|1604778|884887|1095073|910606|872589|1281761|315213|720005|1037038|943819|1024478|84839|882835|745732|1060391|101829|1034054|829224|316709|1012100|89800|719739|91419|87347|1040971|91440|883241|92122|1063761|64040|1032208|1757898|93751|1137789|16918|93556|4127|1601712|310764|96021|732717|24545|1260221|1094285|1385157|97210|92230|96943|27419|109198|97745|1283699|1116132|864749|1113169|86312|916365|1318605|100493|1466258|946581|1418091|97476|217346|860731|1336917|1336917|100517|74208|352915|1403568|731766|5513|100885|1090727|1067701|36104|1403161|203527|103379|813828|1035002|1396009|899689|1786842|1442145|1014473|875320|740260|1792044|732712|943452|1000697|1618921|106040|783325|766704|72971|106640|1140536|823768|107263|104169|11544|1732845|105770|1365135|106535|1174922|72903|743988|34088|818479|1770450|1524472|1041061|1136869|877212|109380|1555280}[[:space]]'"
      ]
     },
     "execution_count": 58,
     "metadata": {},
     "output_type": "execute_result"
    }
   ],
   "source": [
    "grep_pat = '|'.join(sp_companies.CIK.astype(str).to_list())\n",
    "grep_pat = '[[:space:]]{' + grep_pat + '}[[:space]]'\n",
    "grep_pat"
   ]
  },
  {
   "cell_type": "code",
   "execution_count": null,
   "metadata": {},
   "outputs": [],
   "source": []
  }
 ],
 "metadata": {
  "kernelspec": {
   "display_name": "Python 3",
   "language": "python",
   "name": "python3"
  },
  "language_info": {
   "codemirror_mode": {
    "name": "ipython",
    "version": 3
   },
   "file_extension": ".py",
   "mimetype": "text/x-python",
   "name": "python",
   "nbconvert_exporter": "python",
   "pygments_lexer": "ipython3",
   "version": "3.7.9"
  },
  "toc": {
   "base_numbering": 1,
   "nav_menu": {},
   "number_sections": true,
   "sideBar": true,
   "skip_h1_title": false,
   "title_cell": "Table of Contents",
   "title_sidebar": "Contents",
   "toc_cell": false,
   "toc_position": {},
   "toc_section_display": true,
   "toc_window_display": false
  },
  "varInspector": {
   "cols": {
    "lenName": 16,
    "lenType": 16,
    "lenVar": 40
   },
   "kernels_config": {
    "python": {
     "delete_cmd_postfix": "",
     "delete_cmd_prefix": "del ",
     "library": "var_list.py",
     "varRefreshCmd": "print(var_dic_list())"
    },
    "r": {
     "delete_cmd_postfix": ") ",
     "delete_cmd_prefix": "rm(",
     "library": "var_list.r",
     "varRefreshCmd": "cat(var_dic_list()) "
    }
   },
   "types_to_exclude": [
    "module",
    "function",
    "builtin_function_or_method",
    "instance",
    "_Feature"
   ],
   "window_display": false
  }
 },
 "nbformat": 4,
 "nbformat_minor": 4
}
