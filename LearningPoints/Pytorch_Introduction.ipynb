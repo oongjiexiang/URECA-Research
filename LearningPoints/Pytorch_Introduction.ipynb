{
 "cells": [
  {
   "cell_type": "code",
   "execution_count": 1,
   "id": "4e950490",
   "metadata": {
    "ExecuteTime": {
     "end_time": "2021-05-22T08:20:04.804009Z",
     "start_time": "2021-05-22T08:19:59.708241Z"
    }
   },
   "outputs": [],
   "source": [
    "import torch\n",
    "import numpy as np"
   ]
  },
  {
   "cell_type": "markdown",
   "id": "68e61601",
   "metadata": {},
   "source": [
    "# Tensors"
   ]
  },
  {
   "cell_type": "markdown",
   "id": "3609e0d0",
   "metadata": {},
   "source": [
    "## Creating Tensors (just like numpy)"
   ]
  },
  {
   "cell_type": "code",
   "execution_count": 12,
   "id": "f37cf2d0",
   "metadata": {
    "ExecuteTime": {
     "end_time": "2021-05-18T12:56:45.658756Z",
     "start_time": "2021-05-18T12:56:45.641345Z"
    }
   },
   "outputs": [],
   "source": [
    "data = [[2, 2], [3, 4]]\n",
    "arr = np.array(data)\n",
    "\n",
    "x_torch = torch.tensor(data)\n",
    "y_torch = torch.ones(2,2)\n",
    "y_torch = torch.zeros_like(x_torch)\n",
    "z_torch = torch.rand((3,1))\n",
    "y_torch = torch.rand_like(y_torch, dtype = torch.float)\n",
    "z_torch = torch.from_numpy(arr)\n",
    "\n",
    "arr = z_torch.numpy()"
   ]
  },
  {
   "cell_type": "markdown",
   "id": "ba741cff",
   "metadata": {},
   "source": [
    "## Attributes of the Tensor"
   ]
  },
  {
   "cell_type": "code",
   "execution_count": 13,
   "id": "e33467d1",
   "metadata": {
    "ExecuteTime": {
     "end_time": "2021-05-18T12:56:47.246947Z",
     "start_time": "2021-05-18T12:56:47.233060Z"
    }
   },
   "outputs": [
    {
     "name": "stdout",
     "output_type": "stream",
     "text": [
      "torch.int64\n",
      "torch.Size([2, 2])\n",
      "cpu\n"
     ]
    }
   ],
   "source": [
    "print(x_torch.dtype)\n",
    "print(x_torch.shape)\n",
    "print(x_torch.device)\n",
    "if torch.cuda.is_available():\n",
    "    print(\"GPU is available on this laptop\")\n",
    "    tensor = x_torch.to('cuda')"
   ]
  },
  {
   "cell_type": "code",
   "execution_count": 15,
   "id": "6f8aca09",
   "metadata": {
    "ExecuteTime": {
     "end_time": "2021-05-18T12:56:51.507485Z",
     "start_time": "2021-05-18T12:56:51.493293Z"
    }
   },
   "outputs": [
    {
     "name": "stdout",
     "output_type": "stream",
     "text": [
      "tensor([[0.0603, 0.7267, 2.0000, 2.0000],\n",
      "        [0.0366, 0.4846, 3.0000, 4.0000]])\n"
     ]
    }
   ],
   "source": [
    "t1 = torch.cat([y_torch, z_torch], dim = 1)\n",
    "print(t1)"
   ]
  },
  {
   "cell_type": "markdown",
   "id": "ad9bcaf5",
   "metadata": {},
   "source": [
    "## Arithmetic Operations on the Tensor"
   ]
  },
  {
   "cell_type": "code",
   "execution_count": 23,
   "id": "5b2d9092",
   "metadata": {
    "ExecuteTime": {
     "end_time": "2021-05-18T13:00:10.877865Z",
     "start_time": "2021-05-18T13:00:10.855342Z"
    }
   },
   "outputs": [
    {
     "name": "stdout",
     "output_type": "stream",
     "text": [
      "tensor(62)\n",
      "62\n"
     ]
    }
   ],
   "source": [
    "y1 = x_torch @ x_torch\n",
    "y1 = x_torch.matmul(x_torch)\n",
    "torch.matmul(x_torch, x_torch, out=y1)\n",
    "\n",
    "y2 = x_torch * x_torch\n",
    "y2 = x_torch.mul(x_torch)\n",
    "torch.mul(x_torch, x_torch, out=y2)\n",
    "\n",
    "result = y1.sum()\n",
    "print(result)\n",
    "print(result.item())"
   ]
  },
  {
   "cell_type": "markdown",
   "id": "d6804fbd",
   "metadata": {},
   "source": [
    "## Inplace Operations"
   ]
  },
  {
   "cell_type": "code",
   "execution_count": 27,
   "id": "4cdb5892",
   "metadata": {
    "ExecuteTime": {
     "end_time": "2021-05-18T13:02:56.784440Z",
     "start_time": "2021-05-18T13:02:56.750844Z"
    }
   },
   "outputs": [
    {
     "name": "stdout",
     "output_type": "stream",
     "text": [
      "Before z has inplace\n",
      "tensor([[ 8,  8],\n",
      "        [ 9, 10]], dtype=torch.int32)\n",
      "After inplace\n",
      "tensor([[10, 10],\n",
      "        [11, 12]], dtype=torch.int32)\n"
     ]
    },
    {
     "data": {
      "text/plain": [
       "tensor([[12, 12],\n",
       "        [13, 14]], dtype=torch.int32)"
      ]
     },
     "execution_count": 27,
     "metadata": {},
     "output_type": "execute_result"
    }
   ],
   "source": [
    "print(\"Before z has inplace\", end = \": \")\n",
    "print(z_torch)\n",
    "z_torch.add_(2)\n",
    "\n",
    "print(\"After inplace\", end = \": \")\n",
    "print(z_torch)\n",
    "w = z_torch.add(2)\n",
    "torch.add(z_torch, 2, out=w1)"
   ]
  },
  {
   "cell_type": "markdown",
   "id": "b22fe2f4",
   "metadata": {},
   "source": [
    "# Datasets and Dataloaders\n",
    "**REMEMBER**\n",
    "- Datasets always have to define **transform, transform for target, origin (if it is from cloud, download or not)**"
   ]
  },
  {
   "cell_type": "code",
   "execution_count": 11,
   "id": "971968f9",
   "metadata": {
    "ExecuteTime": {
     "end_time": "2021-05-22T09:15:15.107627Z",
     "start_time": "2021-05-22T09:15:12.957399Z"
    }
   },
   "outputs": [],
   "source": [
    "from torchvision.io import read_image\n",
    "from torch.utils.data import Dataset, DataLoader\n",
    "from torchvision import datasets\n",
    "from torchvision.transforms import ToTensor\n",
    "import matplotlib.pyplot as plt\n",
    "import pandas as pd\n",
    "import os"
   ]
  },
  {
   "cell_type": "markdown",
   "id": "873ae05e",
   "metadata": {},
   "source": [
    "## Sample Dataset from PyTorch"
   ]
  },
  {
   "cell_type": "code",
   "execution_count": 12,
   "id": "1de1f547",
   "metadata": {
    "ExecuteTime": {
     "end_time": "2021-05-22T09:15:15.233561Z",
     "start_time": "2021-05-22T09:15:15.141163Z"
    }
   },
   "outputs": [],
   "source": [
    "training_data = datasets.FashionMNIST(\n",
    "    root=\"data\", download=True, train=True, transform=ToTensor()\n",
    ")\n",
    "test_data = datasets.FashionMNIST(\n",
    "    root=\"data\", download=True, train=False, transform=ToTensor()\n",
    ")\n",
    "labels_map = {\n",
    "    0: \"T-Shirt\",\n",
    "    1: \"Trouser\",\n",
    "    2: \"Pullover\",\n",
    "    3: \"Dress\",\n",
    "    4: \"Coat\",\n",
    "    5: \"Sandal\",\n",
    "    6: \"Shirt\",\n",
    "    7: \"Sneaker\",\n",
    "    8: \"Bag\",\n",
    "    9: \"Ankle Boot\",\n",
    "}"
   ]
  },
  {
   "cell_type": "code",
   "execution_count": 21,
   "id": "b272c253",
   "metadata": {
    "ExecuteTime": {
     "end_time": "2021-05-19T00:43:33.368914Z",
     "start_time": "2021-05-19T00:43:32.614979Z"
    }
   },
   "outputs": [
    {
     "data": {
      "image/png": "[encoded data removed]",
      "text/plain": [
       "<Figure size 216x216 with 9 Axes>"
      ]
     },
     "metadata": {
      "needs_background": "light"
     },
     "output_type": "display_data"
    }
   ],
   "source": [
    "figure = plt.figure(figsize=(3,3))\n",
    "rows, cols = 3, 3\n",
    "for i in range(1, rows*cols + 1):\n",
    "    sample_idx = torch.randint(len(training_data), size=(1,)).item()\n",
    "    img, label = training_data[sample_idx]\n",
    "    figure.add_subplot(rows, cols, i)\n",
    "    plt.axis(\"off\")\n",
    "    plt.title(labels_map[label])\n",
    "    plt.imshow(img.squeeze(), cmap = 'gray')\n",
    "plt.show()"
   ]
  },
  {
   "cell_type": "markdown",
   "id": "f049706c",
   "metadata": {},
   "source": [
    "## Custom Dataset"
   ]
  },
  {
   "cell_type": "code",
   "execution_count": 16,
   "id": "70e8b5dc",
   "metadata": {
    "ExecuteTime": {
     "end_time": "2021-05-19T00:39:23.046612Z",
     "start_time": "2021-05-19T00:39:23.020330Z"
    }
   },
   "outputs": [],
   "source": [
    "class CustomImageDataset(Dataset):\n",
    "    def __init__(self, annotations_file, img_dir, transform=None, target_transform=None):\n",
    "        self.img_labels = pd.read_csv(annotations_file)\n",
    "        self.img_dir = img_dir\n",
    "        self.transform = transform\n",
    "        self.target_transform = target_transform\n",
    "        \n",
    "    def __len__(self):\n",
    "        return len(self.img_labels)\n",
    "        \n",
    "    def __getitem__(self, idx):\n",
    "        img_path = os.path.join(self.img_dir, self.img_labels.iloc[idx, 0])\n",
    "        img = read_image(img_path)\n",
    "        label = self.img_labels.iloc[idx, 1]\n",
    "        if self.transform:\n",
    "            img = self.transform(img)\n",
    "        if self.target_transform:\n",
    "            label = self.target_transform(label)\n",
    "        sample = {\"image\": img, \"label\": label}\n",
    "        return sample "
   ]
  },
  {
   "cell_type": "markdown",
   "id": "3f929ab4",
   "metadata": {},
   "source": [
    "## DataLoader\n",
    "DataLoader allows us to load data in **minibatches** instead of only getting one unit of data at a time (we can notice this from CustomImageDataset's `__getitem__()`)"
   ]
  },
  {
   "cell_type": "code",
   "execution_count": 18,
   "id": "75174be5",
   "metadata": {
    "ExecuteTime": {
     "end_time": "2021-05-19T00:40:27.514416Z",
     "start_time": "2021-05-19T00:40:27.499920Z"
    }
   },
   "outputs": [],
   "source": [
    "train_dataloader = DataLoader(training_data, batch_size=64, shuffle=True)\n",
    "test_dataloader = DataLoader(test_data, batch_size=64, shuffle=True)"
   ]
  },
  {
   "cell_type": "code",
   "execution_count": 28,
   "id": "7b6788d3",
   "metadata": {
    "ExecuteTime": {
     "end_time": "2021-05-19T00:44:59.366033Z",
     "start_time": "2021-05-19T00:44:59.041454Z"
    }
   },
   "outputs": [
    {
     "data": {
      "image/png": "[encoded data removed]",
      "text/plain": [
       "<Figure size 432x288 with 1 Axes>"
      ]
     },
     "metadata": {
      "needs_background": "light"
     },
     "output_type": "display_data"
    },
    {
     "name": "stdout",
     "output_type": "stream",
     "text": [
      "Feature batch shape: torch.Size([64, 1, 28, 28])\n",
      "Labels batch shape: torch.Size([64])\n",
      "Label: 5, Sandal\n"
     ]
    }
   ],
   "source": [
    "train_features, train_labels = next(iter(train_dataloader))\n",
    "img = train_features[0].squeeze()\n",
    "label = train_labels[0]\n",
    "plt.imshow(img, cmap = 'gray')\n",
    "plt.show()\n",
    "\n",
    "print(f\"Feature batch shape: {train_features.size()}\")\n",
    "print(f\"Labels batch shape: {train_labels.size()}\")\n",
    "print(f\"Label: {label}, {labels_map[label.item()]}\")"
   ]
  },
  {
   "cell_type": "markdown",
   "id": "c2fda37c",
   "metadata": {},
   "source": [
    "# Transforms"
   ]
  },
  {
   "cell_type": "code",
   "execution_count": 30,
   "id": "8b522841",
   "metadata": {
    "ExecuteTime": {
     "end_time": "2021-05-19T00:50:56.019556Z",
     "start_time": "2021-05-19T00:50:56.008740Z"
    }
   },
   "outputs": [],
   "source": [
    "from torchvision import datasets\n",
    "from torchvision.transforms import ToTensor, Lambda"
   ]
  },
  {
   "cell_type": "code",
   "execution_count": 32,
   "id": "f74aca48",
   "metadata": {
    "ExecuteTime": {
     "end_time": "2021-05-19T00:54:18.521379Z",
     "start_time": "2021-05-19T00:54:18.461375Z"
    }
   },
   "outputs": [],
   "source": [
    "ds = datasets.FashionMNIST(\n",
    "    root=\"data\", train=True, download=True, transform=ToTensor(),\n",
    "    target_transform=Lambda(\n",
    "        lambda y: torch.zeros(10, dtype=torch.float).scatter_(dim=0, idx=torch.tensor(y), value=1)\n",
    "    )\n",
    ")"
   ]
  },
  {
   "cell_type": "markdown",
   "id": "a8923ba0",
   "metadata": {},
   "source": [
    "# Building Neural Network\n",
    "*Please run part 2's first cell*  \n",
    "\n",
    "**Building Neural Network**\n",
    "> 1. A layer is called a 'module'. To build more complex neural networks, *each neural network* is also a 'module'.\n",
    "> 2. A neural network class must have two functions: `__init__()` and `forward()`\n",
    ">   - `__init__()`: must have two components: how to treat the input especially image with more than 1 dimension (`flatten`), its actual structure (`Sequential`)\n",
    ">   - `forward()`: will be called automatically when data are passed through. When building it, **assume that we are handling a piece of data**. eg, if we pass in 3 pieces of sample data, consider the dimension of **one** piece only\n",
    "> 3. Layers of the network: \n",
    ">   - Linear: just like linear regression with weight m and bias c (y=mx+c)\n",
    ">   - Non-linear activation (eg. ReLU): complex mappings between input and outputs. Just like adjusting the fuzzy sets in the fuzzy partition\n",
    "  \n",
    "**Supply Input and Get Output**  \n",
    "> 4. Getting the ouput: the output**s** are called logits. Determine the largest value, then select its argument (hence argmax). But the values must be first normalised to probabilities before SoftMax can find. \n",
    "\n",
    "**Retrieve Parameters**"
   ]
  },
  {
   "cell_type": "code",
   "execution_count": 34,
   "id": "a0fc6598",
   "metadata": {
    "ExecuteTime": {
     "end_time": "2021-05-22T09:24:40.474104Z",
     "start_time": "2021-05-22T09:24:40.467821Z"
    }
   },
   "outputs": [
    {
     "name": "stdout",
     "output_type": "stream",
     "text": [
      "cpu\n"
     ]
    }
   ],
   "source": [
    "from torch import nn\n",
    "device = 'cuda' if torch.cuda.is_available() else 'cpu'\n",
    "print(device)"
   ]
  },
  {
   "cell_type": "markdown",
   "id": "6b276de5",
   "metadata": {
    "ExecuteTime": {
     "end_time": "2021-05-22T09:05:03.646053Z",
     "start_time": "2021-05-22T09:05:03.628321Z"
    }
   },
   "source": [
    "## Building Neural Network"
   ]
  },
  {
   "cell_type": "code",
   "execution_count": 5,
   "id": "be3d830d",
   "metadata": {
    "ExecuteTime": {
     "end_time": "2021-05-22T09:13:39.238112Z",
     "start_time": "2021-05-22T09:13:39.223164Z"
    }
   },
   "outputs": [],
   "source": [
    "class NeuralNetwork(nn.Module):\n",
    "    def __init__(self):\n",
    "        super(NeuralNetwork, self).__init__()\n",
    "        self.flatten = nn.Flatten()\n",
    "        self.linear_relu_stack = nn.Sequential(\n",
    "            nn.Linear(in_features = 28*28, out_features = 512),\n",
    "            nn.ReLU(),\n",
    "            nn.Linear(512, 512),\n",
    "            nn.ReLU(),\n",
    "            nn.Linear(512, 10),\n",
    "            nn.ReLU()\n",
    "        )\n",
    "    def forward(self, x):\n",
    "        x = self.flatten(x)\n",
    "        logits = self.linear_relu_stack(x)\n",
    "        return logits"
   ]
  },
  {
   "cell_type": "code",
   "execution_count": 9,
   "id": "d0cc9880",
   "metadata": {
    "ExecuteTime": {
     "end_time": "2021-05-22T09:14:18.246922Z",
     "start_time": "2021-05-22T09:14:18.215549Z"
    }
   },
   "outputs": [
    {
     "name": "stdout",
     "output_type": "stream",
     "text": [
      "NeuralNetwork(\n",
      "  (flatten): Flatten(start_dim=1, end_dim=-1)\n",
      "  (linear_relu_stack): Sequential(\n",
      "    (0): Linear(in_features=784, out_features=512, bias=True)\n",
      "    (1): ReLU()\n",
      "    (2): Linear(in_features=512, out_features=512, bias=True)\n",
      "    (3): ReLU()\n",
      "    (4): Linear(in_features=512, out_features=10, bias=True)\n",
      "    (5): ReLU()\n",
      "  )\n",
      ")\n"
     ]
    }
   ],
   "source": [
    "model = NeuralNetwork().to(device)\n",
    "print(model)"
   ]
  },
  {
   "cell_type": "markdown",
   "id": "603d5446",
   "metadata": {},
   "source": [
    "## Forget about training data. First know how to input data and get the output"
   ]
  },
  {
   "cell_type": "code",
   "execution_count": 33,
   "id": "8d781fd0",
   "metadata": {
    "ExecuteTime": {
     "end_time": "2021-05-22T09:24:26.897033Z",
     "start_time": "2021-05-22T09:24:26.886137Z"
    }
   },
   "outputs": [
    {
     "name": "stdout",
     "output_type": "stream",
     "text": [
      "Predicted class: Bag\n"
     ]
    }
   ],
   "source": [
    "img, label = training_data[0]  # 1. get input data\n",
    "logits = model(img)            # 2. pass to model to get result layer    \n",
    "softmax = nn.Softmax(dim = 1)  # 3. Softmax can double check that sum of normalised values along dim=1 is 1.0\n",
    "pred_prob = softmax(logits)    # 4. Softmax normalises logits (-inf, inf) to [0,1] for dim=1\n",
    "y_pred = pred_prob.argmax(1)   # 5. Takagi-Sugeno-Kang's Layer 5: Real defuzzification layer\n",
    "print(f'Predicted class: {labels_map[y_pred.item()]}')"
   ]
  },
  {
   "cell_type": "markdown",
   "id": "e169db15",
   "metadata": {},
   "source": [
    "## Understand Model Parameters"
   ]
  },
  {
   "cell_type": "code",
   "execution_count": 36,
   "id": "669c0dd8",
   "metadata": {
    "ExecuteTime": {
     "end_time": "2021-05-22T09:28:40.363306Z",
     "start_time": "2021-05-22T09:28:40.345537Z"
    }
   },
   "outputs": [
    {
     "name": "stdout",
     "output_type": "stream",
     "text": [
      "Layer: linear_relu_stack.0.weight\n",
      "Parameter size: torch.Size([512, 784])\n",
      "Parameter sneakpeak: tensor([[ 0.0271, -0.0185, -0.0248,  ...,  0.0182,  0.0247, -0.0026],\n",
      "        [-0.0067,  0.0281,  0.0337,  ...,  0.0300,  0.0115,  0.0222]],\n",
      "       grad_fn=<SliceBackward>)\n",
      "\n",
      "\n",
      "Layer: linear_relu_stack.0.bias\n",
      "Parameter size: torch.Size([512])\n",
      "Parameter sneakpeak: tensor([-0.0091,  0.0145], grad_fn=<SliceBackward>)\n",
      "\n",
      "\n",
      "Layer: linear_relu_stack.2.weight\n",
      "Parameter size: torch.Size([512, 512])\n",
      "Parameter sneakpeak: tensor([[ 0.0090, -0.0073, -0.0063,  ...,  0.0243, -0.0339,  0.0210],\n",
      "        [ 0.0135, -0.0366, -0.0116,  ..., -0.0233, -0.0359,  0.0034]],\n",
      "       grad_fn=<SliceBackward>)\n",
      "\n",
      "\n",
      "Layer: linear_relu_stack.2.bias\n",
      "Parameter size: torch.Size([512])\n",
      "Parameter sneakpeak: tensor([0.0430, 0.0009], grad_fn=<SliceBackward>)\n",
      "\n",
      "\n",
      "Layer: linear_relu_stack.4.weight\n",
      "Parameter size: torch.Size([10, 512])\n",
      "Parameter sneakpeak: tensor([[-0.0210, -0.0166, -0.0221,  ..., -0.0407, -0.0127,  0.0132],\n",
      "        [ 0.0379, -0.0430, -0.0423,  ..., -0.0082, -0.0285, -0.0059]],\n",
      "       grad_fn=<SliceBackward>)\n",
      "\n",
      "\n",
      "Layer: linear_relu_stack.4.bias\n",
      "Parameter size: torch.Size([10])\n",
      "Parameter sneakpeak: tensor([ 0.0046, -0.0012], grad_fn=<SliceBackward>)\n",
      "\n",
      "\n"
     ]
    }
   ],
   "source": [
    "for name, param in model.named_parameters():\n",
    "    print(f'Layer: {name}\\nParameter size: {param.size()}\\nParameter sneakpeak: {param[:2]}\\n\\n')"
   ]
  }
 ],
 "metadata": {
  "kernelspec": {
   "display_name": "Python 3",
   "language": "python",
   "name": "python3"
  },
  "language_info": {
   "codemirror_mode": {
    "name": "ipython",
    "version": 3
   },
   "file_extension": ".py",
   "mimetype": "text/x-python",
   "name": "python",
   "nbconvert_exporter": "python",
   "pygments_lexer": "ipython3",
   "version": "3.8.8"
  },
  "toc": {
   "base_numbering": 1,
   "nav_menu": {},
   "number_sections": true,
   "sideBar": true,
   "skip_h1_title": false,
   "title_cell": "Table of Contents",
   "title_sidebar": "Contents",
   "toc_cell": false,
   "toc_position": {},
   "toc_section_display": true,
   "toc_window_display": false
  },
  "varInspector": {
   "cols": {
    "lenName": 16,
    "lenType": 16,
    "lenVar": 40
   },
   "kernels_config": {
    "python": {
     "delete_cmd_postfix": "",
     "delete_cmd_prefix": "del ",
     "library": "var_list.py",
     "varRefreshCmd": "print(var_dic_list())"
    },
    "r": {
     "delete_cmd_postfix": ") ",
     "delete_cmd_prefix": "rm(",
     "library": "var_list.r",
     "varRefreshCmd": "cat(var_dic_list()) "
    }
   },
   "types_to_exclude": [
    "module",
    "function",
    "builtin_function_or_method",
    "instance",
    "_Feature"
   ],
   "window_display": false
  }
 },
 "nbformat": 4,
 "nbformat_minor": 5
}
